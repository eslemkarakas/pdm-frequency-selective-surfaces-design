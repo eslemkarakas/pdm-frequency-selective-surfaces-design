{
 "cells": [
  {
   "cell_type": "markdown",
   "metadata": {},
   "source": [
    "<!DOCTYPE html>\n",
    "<html>\n",
    "<head>\n",
    "    <title>Centralized Heading</title>\n",
    "</head>\n",
    "<body>\n",
    "\n",
    "<div style=\"text-align: center;\">\n",
    "    <h3><font color='pink'><b>Env</b></font></h3>\n",
    "</div>\n",
    "\n",
    "</body>\n",
    "</html>"
   ]
  },
  {
   "cell_type": "code",
   "execution_count": 68,
   "metadata": {},
   "outputs": [],
   "source": [
    "# import standard packages\n",
    "import os\n",
    "import warnings\n",
    "import numpy as np\n",
    "import pandas as pd\n",
    "import seaborn as sns\n",
    "import matplotlib as mpl\n",
    "import matplotlib.pyplot as plt\n",
    "\n",
    "# suppress warnings\n",
    "warnings.filterwarnings('ignore')\n",
    "\n",
    "# adjust dataframe demonstration options\n",
    "pd.set_option('display.max_rows', 500)\n",
    "pd.set_option('display.max_columns', 500)\n",
    "\n",
    "# define static configurations\n",
    "class C:\n",
    "    TARGET_VARIABLE = '-'\n",
    "    NOTEBOOK_PATH = os.getcwd()\n",
    "    SRC_PATH = os.path.dirname(NOTEBOOK_PATH)\n",
    "    RAW_DF_PATH = os.path.join(SRC_PATH, 'data/DATASET 1 (BOSLUKSUZ) CSV.csv')\n",
    "    EDITED_DF_PATH = os.path.join(SRC_PATH, 'data/freq_surface.csv')\n",
    "    \n",
    "# load data\n",
    "df = pd.read_csv(C.RAW_DF_PATH)"
   ]
  },
  {
   "cell_type": "markdown",
   "metadata": {},
   "source": [
    "<!DOCTYPE html>\n",
    "<html>\n",
    "<head>\n",
    "    <title>Centralized Heading</title>\n",
    "</head>\n",
    "<body>\n",
    "\n",
    "<div style=\"text-align: center;\">\n",
    "    <h3><font color='pink'><b>Apply</b></font></h3>\n",
    "</div>\n",
    "\n",
    "</body>\n",
    "</html>"
   ]
  },
  {
   "cell_type": "markdown",
   "metadata": {},
   "source": [
    "<!DOCTYPE html>\n",
    "<html>\n",
    "<head>\n",
    "    <title>Centralized Heading</title>\n",
    "</head>\n",
    "<body>\n",
    "\n",
    "<div style=\"text-align: left;\">\n",
    "    <h5><font color='gray'><b>Convert object to float</b></font></h5>\n",
    "</div>\n",
    "\n",
    "</body>\n",
    "</html>"
   ]
  },
  {
   "cell_type": "code",
   "execution_count": 69,
   "metadata": {},
   "outputs": [
    {
     "data": {
      "text/plain": [
       "['r4',\n",
       " 'w1',\n",
       " 'r3',\n",
       " 'r2',\n",
       " 'w2',\n",
       " 'r1',\n",
       " 'r0',\n",
       " 'f1',\n",
       " 'f2',\n",
       " 'bw1',\n",
       " 'bw2',\n",
       " 'bw1-1',\n",
       " 'bw1-2',\n",
       " 'bw2-1',\n",
       " 'bw2-2']"
      ]
     },
     "execution_count": 69,
     "metadata": {},
     "output_type": "execute_result"
    }
   ],
   "source": [
    "obj_cols = df.select_dtypes(include=['object']).columns.tolist()\n",
    "obj_cols"
   ]
  },
  {
   "cell_type": "code",
   "execution_count": 70,
   "metadata": {},
   "outputs": [],
   "source": [
    "for obj_col in obj_cols:\n",
    "    df[obj_col] = df[obj_col].str.replace(',', '.') # replace x,xx to x.xx units before converting str to float \n",
    "    df[obj_col] = df[obj_col].astype(float)"
   ]
  },
  {
   "cell_type": "markdown",
   "metadata": {},
   "source": [
    "<!DOCTYPE html>\n",
    "<html>\n",
    "<head>\n",
    "    <title>Centralized Heading</title>\n",
    "</head>\n",
    "<body>\n",
    "\n",
    "<div style=\"text-align: left;\">\n",
    "    <h5><font color='gray'><b>Handle missing values</b></font></h5>\n",
    "</div>\n",
    "\n",
    "</body>\n",
    "</html>"
   ]
  },
  {
   "cell_type": "code",
   "execution_count": 71,
   "metadata": {},
   "outputs": [
    {
     "data": {
      "text/html": [
       "<div>\n",
       "<style scoped>\n",
       "    .dataframe tbody tr th:only-of-type {\n",
       "        vertical-align: middle;\n",
       "    }\n",
       "\n",
       "    .dataframe tbody tr th {\n",
       "        vertical-align: top;\n",
       "    }\n",
       "\n",
       "    .dataframe thead th {\n",
       "        text-align: right;\n",
       "    }\n",
       "</style>\n",
       "<table border=\"1\" class=\"dataframe\">\n",
       "  <thead>\n",
       "    <tr style=\"text-align: right;\">\n",
       "      <th></th>\n",
       "      <th>x</th>\n",
       "      <th>y</th>\n",
       "      <th>r4</th>\n",
       "      <th>w1</th>\n",
       "      <th>r3</th>\n",
       "      <th>r2</th>\n",
       "      <th>w2</th>\n",
       "      <th>r1</th>\n",
       "      <th>r0</th>\n",
       "      <th>f1</th>\n",
       "      <th>f2</th>\n",
       "      <th>bw1</th>\n",
       "      <th>bw2</th>\n",
       "      <th>bw1-1</th>\n",
       "      <th>bw1-2</th>\n",
       "      <th>bw2-1</th>\n",
       "      <th>bw2-2</th>\n",
       "    </tr>\n",
       "  </thead>\n",
       "  <tbody>\n",
       "    <tr>\n",
       "      <th>83</th>\n",
       "      <td>NaN</td>\n",
       "      <td>NaN</td>\n",
       "      <td>NaN</td>\n",
       "      <td>NaN</td>\n",
       "      <td>NaN</td>\n",
       "      <td>NaN</td>\n",
       "      <td>NaN</td>\n",
       "      <td>NaN</td>\n",
       "      <td>NaN</td>\n",
       "      <td>NaN</td>\n",
       "      <td>NaN</td>\n",
       "      <td>NaN</td>\n",
       "      <td>NaN</td>\n",
       "      <td>NaN</td>\n",
       "      <td>NaN</td>\n",
       "      <td>NaN</td>\n",
       "      <td>NaN</td>\n",
       "    </tr>\n",
       "    <tr>\n",
       "      <th>147</th>\n",
       "      <td>10.0</td>\n",
       "      <td>10.0</td>\n",
       "      <td>3.25</td>\n",
       "      <td>0.50</td>\n",
       "      <td>2.75</td>\n",
       "      <td>2.50</td>\n",
       "      <td>0.25</td>\n",
       "      <td>2.25</td>\n",
       "      <td>2.0</td>\n",
       "      <td>12.413</td>\n",
       "      <td>15.382</td>\n",
       "      <td>0.505</td>\n",
       "      <td>NaN</td>\n",
       "      <td>12.10</td>\n",
       "      <td>12.606</td>\n",
       "      <td>15.034</td>\n",
       "      <td>15.63</td>\n",
       "    </tr>\n",
       "    <tr>\n",
       "      <th>187</th>\n",
       "      <td>10.0</td>\n",
       "      <td>10.0</td>\n",
       "      <td>3.25</td>\n",
       "      <td>1.25</td>\n",
       "      <td>2.00</td>\n",
       "      <td>1.75</td>\n",
       "      <td>1.00</td>\n",
       "      <td>0.75</td>\n",
       "      <td>0.5</td>\n",
       "      <td>16.503</td>\n",
       "      <td>-1.000</td>\n",
       "      <td>1.484</td>\n",
       "      <td>-1.0</td>\n",
       "      <td>15.61</td>\n",
       "      <td>17.095</td>\n",
       "      <td>NaN</td>\n",
       "      <td>NaN</td>\n",
       "    </tr>\n",
       "    <tr>\n",
       "      <th>204</th>\n",
       "      <td>NaN</td>\n",
       "      <td>NaN</td>\n",
       "      <td>NaN</td>\n",
       "      <td>NaN</td>\n",
       "      <td>NaN</td>\n",
       "      <td>NaN</td>\n",
       "      <td>NaN</td>\n",
       "      <td>NaN</td>\n",
       "      <td>NaN</td>\n",
       "      <td>NaN</td>\n",
       "      <td>NaN</td>\n",
       "      <td>NaN</td>\n",
       "      <td>NaN</td>\n",
       "      <td>NaN</td>\n",
       "      <td>NaN</td>\n",
       "      <td>NaN</td>\n",
       "      <td>NaN</td>\n",
       "    </tr>\n",
       "    <tr>\n",
       "      <th>369</th>\n",
       "      <td>NaN</td>\n",
       "      <td>NaN</td>\n",
       "      <td>NaN</td>\n",
       "      <td>NaN</td>\n",
       "      <td>NaN</td>\n",
       "      <td>NaN</td>\n",
       "      <td>NaN</td>\n",
       "      <td>NaN</td>\n",
       "      <td>NaN</td>\n",
       "      <td>NaN</td>\n",
       "      <td>NaN</td>\n",
       "      <td>NaN</td>\n",
       "      <td>NaN</td>\n",
       "      <td>NaN</td>\n",
       "      <td>NaN</td>\n",
       "      <td>NaN</td>\n",
       "      <td>NaN</td>\n",
       "    </tr>\n",
       "    <tr>\n",
       "      <th>590</th>\n",
       "      <td>NaN</td>\n",
       "      <td>NaN</td>\n",
       "      <td>NaN</td>\n",
       "      <td>NaN</td>\n",
       "      <td>NaN</td>\n",
       "      <td>NaN</td>\n",
       "      <td>NaN</td>\n",
       "      <td>NaN</td>\n",
       "      <td>NaN</td>\n",
       "      <td>NaN</td>\n",
       "      <td>NaN</td>\n",
       "      <td>NaN</td>\n",
       "      <td>NaN</td>\n",
       "      <td>NaN</td>\n",
       "      <td>NaN</td>\n",
       "      <td>NaN</td>\n",
       "      <td>NaN</td>\n",
       "    </tr>\n",
       "    <tr>\n",
       "      <th>877</th>\n",
       "      <td>NaN</td>\n",
       "      <td>NaN</td>\n",
       "      <td>NaN</td>\n",
       "      <td>NaN</td>\n",
       "      <td>NaN</td>\n",
       "      <td>NaN</td>\n",
       "      <td>NaN</td>\n",
       "      <td>NaN</td>\n",
       "      <td>NaN</td>\n",
       "      <td>NaN</td>\n",
       "      <td>NaN</td>\n",
       "      <td>NaN</td>\n",
       "      <td>NaN</td>\n",
       "      <td>NaN</td>\n",
       "      <td>NaN</td>\n",
       "      <td>NaN</td>\n",
       "      <td>NaN</td>\n",
       "    </tr>\n",
       "    <tr>\n",
       "      <th>1242</th>\n",
       "      <td>NaN</td>\n",
       "      <td>NaN</td>\n",
       "      <td>NaN</td>\n",
       "      <td>NaN</td>\n",
       "      <td>NaN</td>\n",
       "      <td>NaN</td>\n",
       "      <td>NaN</td>\n",
       "      <td>NaN</td>\n",
       "      <td>NaN</td>\n",
       "      <td>NaN</td>\n",
       "      <td>NaN</td>\n",
       "      <td>NaN</td>\n",
       "      <td>NaN</td>\n",
       "      <td>NaN</td>\n",
       "      <td>NaN</td>\n",
       "      <td>NaN</td>\n",
       "      <td>NaN</td>\n",
       "    </tr>\n",
       "  </tbody>\n",
       "</table>\n",
       "</div>"
      ],
      "text/plain": [
       "         x     y    r4    w1    r3    r2    w2    r1   r0      f1      f2  \\\n",
       "83     NaN   NaN   NaN   NaN   NaN   NaN   NaN   NaN  NaN     NaN     NaN   \n",
       "147   10.0  10.0  3.25  0.50  2.75  2.50  0.25  2.25  2.0  12.413  15.382   \n",
       "187   10.0  10.0  3.25  1.25  2.00  1.75  1.00  0.75  0.5  16.503  -1.000   \n",
       "204    NaN   NaN   NaN   NaN   NaN   NaN   NaN   NaN  NaN     NaN     NaN   \n",
       "369    NaN   NaN   NaN   NaN   NaN   NaN   NaN   NaN  NaN     NaN     NaN   \n",
       "590    NaN   NaN   NaN   NaN   NaN   NaN   NaN   NaN  NaN     NaN     NaN   \n",
       "877    NaN   NaN   NaN   NaN   NaN   NaN   NaN   NaN  NaN     NaN     NaN   \n",
       "1242   NaN   NaN   NaN   NaN   NaN   NaN   NaN   NaN  NaN     NaN     NaN   \n",
       "\n",
       "        bw1  bw2  bw1-1   bw1-2   bw2-1  bw2-2  \n",
       "83      NaN  NaN    NaN     NaN     NaN    NaN  \n",
       "147   0.505  NaN  12.10  12.606  15.034  15.63  \n",
       "187   1.484 -1.0  15.61  17.095     NaN    NaN  \n",
       "204     NaN  NaN    NaN     NaN     NaN    NaN  \n",
       "369     NaN  NaN    NaN     NaN     NaN    NaN  \n",
       "590     NaN  NaN    NaN     NaN     NaN    NaN  \n",
       "877     NaN  NaN    NaN     NaN     NaN    NaN  \n",
       "1242    NaN  NaN    NaN     NaN     NaN    NaN  "
      ]
     },
     "execution_count": 71,
     "metadata": {},
     "output_type": "execute_result"
    }
   ],
   "source": [
    "df[df.isna().any(axis=1)]"
   ]
  },
  {
   "cell_type": "code",
   "execution_count": 72,
   "metadata": {},
   "outputs": [],
   "source": [
    "# handle edge case for null values\n",
    "df.loc[147, 'bw2'] = float(df[147:148]['bw2-2'] - df[147:148]['bw2-1'])\n",
    "df.loc[187, ['bw2-2', 'bw2-1']] = -1\n",
    "\n",
    "# drop rows that contain just null values\n",
    "df.dropna(axis=0, inplace=True)\n",
    "\n",
    "# reset index\n",
    "df.reset_index(drop=True, inplace=True)"
   ]
  },
  {
   "cell_type": "markdown",
   "metadata": {},
   "source": [
    "<!DOCTYPE html>\n",
    "<html>\n",
    "<head>\n",
    "    <title>Centralized Heading</title>\n",
    "</head>\n",
    "<body>\n",
    "\n",
    "<div style=\"text-align: center;\">\n",
    "    <h3><font color='pink'><b>Observe</b></font></h3>\n",
    "</div>\n",
    "\n",
    "</body>\n",
    "</html>"
   ]
  },
  {
   "cell_type": "code",
   "execution_count": 73,
   "metadata": {},
   "outputs": [
    {
     "data": {
      "text/plain": [
       "(1691, 17)"
      ]
     },
     "execution_count": 73,
     "metadata": {},
     "output_type": "execute_result"
    }
   ],
   "source": [
    "df.shape"
   ]
  },
  {
   "cell_type": "code",
   "execution_count": 74,
   "metadata": {},
   "outputs": [
    {
     "name": "stdout",
     "output_type": "stream",
     "text": [
      "<class 'pandas.core.frame.DataFrame'>\n",
      "RangeIndex: 1691 entries, 0 to 1690\n",
      "Data columns (total 17 columns):\n",
      " #   Column  Non-Null Count  Dtype  \n",
      "---  ------  --------------  -----  \n",
      " 0    x      1691 non-null   float64\n",
      " 1   y       1691 non-null   float64\n",
      " 2   r4      1691 non-null   float64\n",
      " 3   w1      1691 non-null   float64\n",
      " 4   r3      1691 non-null   float64\n",
      " 5   r2      1691 non-null   float64\n",
      " 6   w2      1691 non-null   float64\n",
      " 7   r1      1691 non-null   float64\n",
      " 8   r0      1691 non-null   float64\n",
      " 9   f1      1691 non-null   float64\n",
      " 10  f2      1691 non-null   float64\n",
      " 11  bw1     1691 non-null   float64\n",
      " 12  bw2     1691 non-null   float64\n",
      " 13  bw1-1   1691 non-null   float64\n",
      " 14  bw1-2   1691 non-null   float64\n",
      " 15  bw2-1   1691 non-null   float64\n",
      " 16  bw2-2   1691 non-null   float64\n",
      "dtypes: float64(17)\n",
      "memory usage: 224.7 KB\n"
     ]
    }
   ],
   "source": [
    "df.info()"
   ]
  },
  {
   "cell_type": "code",
   "execution_count": 75,
   "metadata": {},
   "outputs": [
    {
     "data": {
      "text/html": [
       "<div>\n",
       "<style scoped>\n",
       "    .dataframe tbody tr th:only-of-type {\n",
       "        vertical-align: middle;\n",
       "    }\n",
       "\n",
       "    .dataframe tbody tr th {\n",
       "        vertical-align: top;\n",
       "    }\n",
       "\n",
       "    .dataframe thead th {\n",
       "        text-align: right;\n",
       "    }\n",
       "</style>\n",
       "<table border=\"1\" class=\"dataframe\">\n",
       "  <thead>\n",
       "    <tr style=\"text-align: right;\">\n",
       "      <th></th>\n",
       "      <th>count</th>\n",
       "      <th>mean</th>\n",
       "      <th>std</th>\n",
       "      <th>min</th>\n",
       "      <th>25%</th>\n",
       "      <th>50%</th>\n",
       "      <th>75%</th>\n",
       "      <th>max</th>\n",
       "    </tr>\n",
       "  </thead>\n",
       "  <tbody>\n",
       "    <tr>\n",
       "      <th>x</th>\n",
       "      <td>1691.0</td>\n",
       "      <td>10.000000</td>\n",
       "      <td>0.000000</td>\n",
       "      <td>10.000</td>\n",
       "      <td>10.0000</td>\n",
       "      <td>10.000</td>\n",
       "      <td>10.0000</td>\n",
       "      <td>10.000</td>\n",
       "    </tr>\n",
       "    <tr>\n",
       "      <th>y</th>\n",
       "      <td>1691.0</td>\n",
       "      <td>10.000000</td>\n",
       "      <td>0.000000</td>\n",
       "      <td>10.000</td>\n",
       "      <td>10.0000</td>\n",
       "      <td>10.000</td>\n",
       "      <td>10.0000</td>\n",
       "      <td>10.000</td>\n",
       "    </tr>\n",
       "    <tr>\n",
       "      <th>r4</th>\n",
       "      <td>1691.0</td>\n",
       "      <td>4.004731</td>\n",
       "      <td>0.449498</td>\n",
       "      <td>3.000</td>\n",
       "      <td>3.7500</td>\n",
       "      <td>4.000</td>\n",
       "      <td>4.5000</td>\n",
       "      <td>4.500</td>\n",
       "    </tr>\n",
       "    <tr>\n",
       "      <th>w1</th>\n",
       "      <td>1691.0</td>\n",
       "      <td>0.873300</td>\n",
       "      <td>0.587552</td>\n",
       "      <td>0.250</td>\n",
       "      <td>0.5000</td>\n",
       "      <td>0.750</td>\n",
       "      <td>1.2500</td>\n",
       "      <td>3.000</td>\n",
       "    </tr>\n",
       "    <tr>\n",
       "      <th>r3</th>\n",
       "      <td>1691.0</td>\n",
       "      <td>3.131431</td>\n",
       "      <td>0.667328</td>\n",
       "      <td>1.250</td>\n",
       "      <td>2.7500</td>\n",
       "      <td>3.250</td>\n",
       "      <td>3.7500</td>\n",
       "      <td>4.250</td>\n",
       "    </tr>\n",
       "    <tr>\n",
       "      <th>r2</th>\n",
       "      <td>1691.0</td>\n",
       "      <td>2.881431</td>\n",
       "      <td>0.667328</td>\n",
       "      <td>1.000</td>\n",
       "      <td>2.5000</td>\n",
       "      <td>3.000</td>\n",
       "      <td>3.5000</td>\n",
       "      <td>4.000</td>\n",
       "    </tr>\n",
       "    <tr>\n",
       "      <th>w2</th>\n",
       "      <td>1691.0</td>\n",
       "      <td>0.877144</td>\n",
       "      <td>0.591127</td>\n",
       "      <td>0.250</td>\n",
       "      <td>0.5000</td>\n",
       "      <td>0.750</td>\n",
       "      <td>1.2500</td>\n",
       "      <td>3.250</td>\n",
       "    </tr>\n",
       "    <tr>\n",
       "      <th>r1</th>\n",
       "      <td>1691.0</td>\n",
       "      <td>2.004287</td>\n",
       "      <td>0.705602</td>\n",
       "      <td>0.750</td>\n",
       "      <td>1.5000</td>\n",
       "      <td>2.000</td>\n",
       "      <td>2.5000</td>\n",
       "      <td>3.750</td>\n",
       "    </tr>\n",
       "    <tr>\n",
       "      <th>r0</th>\n",
       "      <td>1691.0</td>\n",
       "      <td>1.127144</td>\n",
       "      <td>0.591127</td>\n",
       "      <td>0.500</td>\n",
       "      <td>0.7500</td>\n",
       "      <td>1.000</td>\n",
       "      <td>1.5000</td>\n",
       "      <td>3.500</td>\n",
       "    </tr>\n",
       "    <tr>\n",
       "      <th>f1</th>\n",
       "      <td>1691.0</td>\n",
       "      <td>11.061307</td>\n",
       "      <td>3.077110</td>\n",
       "      <td>-1.000</td>\n",
       "      <td>9.4795</td>\n",
       "      <td>10.550</td>\n",
       "      <td>12.4910</td>\n",
       "      <td>18.000</td>\n",
       "    </tr>\n",
       "    <tr>\n",
       "      <th>f2</th>\n",
       "      <td>1691.0</td>\n",
       "      <td>6.012156</td>\n",
       "      <td>7.983961</td>\n",
       "      <td>-1.000</td>\n",
       "      <td>-1.0000</td>\n",
       "      <td>-1.000</td>\n",
       "      <td>14.6250</td>\n",
       "      <td>18.000</td>\n",
       "    </tr>\n",
       "    <tr>\n",
       "      <th>bw1</th>\n",
       "      <td>1691.0</td>\n",
       "      <td>0.839151</td>\n",
       "      <td>0.977485</td>\n",
       "      <td>-1.000</td>\n",
       "      <td>0.3790</td>\n",
       "      <td>0.733</td>\n",
       "      <td>1.2320</td>\n",
       "      <td>12.422</td>\n",
       "    </tr>\n",
       "    <tr>\n",
       "      <th>bw2</th>\n",
       "      <td>1691.0</td>\n",
       "      <td>0.060377</td>\n",
       "      <td>1.637853</td>\n",
       "      <td>-18.166</td>\n",
       "      <td>-1.0000</td>\n",
       "      <td>-1.000</td>\n",
       "      <td>1.5115</td>\n",
       "      <td>4.068</td>\n",
       "    </tr>\n",
       "    <tr>\n",
       "      <th>bw1-1</th>\n",
       "      <td>1691.0</td>\n",
       "      <td>10.267292</td>\n",
       "      <td>3.417305</td>\n",
       "      <td>-1.000</td>\n",
       "      <td>8.8665</td>\n",
       "      <td>10.289</td>\n",
       "      <td>12.1250</td>\n",
       "      <td>17.959</td>\n",
       "    </tr>\n",
       "    <tr>\n",
       "      <th>bw1-2</th>\n",
       "      <td>1691.0</td>\n",
       "      <td>10.938544</td>\n",
       "      <td>3.561032</td>\n",
       "      <td>-1.000</td>\n",
       "      <td>9.1760</td>\n",
       "      <td>10.656</td>\n",
       "      <td>12.7040</td>\n",
       "      <td>17.828</td>\n",
       "    </tr>\n",
       "    <tr>\n",
       "      <th>bw2-1</th>\n",
       "      <td>1691.0</td>\n",
       "      <td>7.694451</td>\n",
       "      <td>7.811788</td>\n",
       "      <td>-1.000</td>\n",
       "      <td>-1.0000</td>\n",
       "      <td>11.489</td>\n",
       "      <td>14.9300</td>\n",
       "      <td>17.967</td>\n",
       "    </tr>\n",
       "    <tr>\n",
       "      <th>bw2-2</th>\n",
       "      <td>1691.0</td>\n",
       "      <td>4.916684</td>\n",
       "      <td>7.880993</td>\n",
       "      <td>-1.000</td>\n",
       "      <td>-1.0000</td>\n",
       "      <td>-1.000</td>\n",
       "      <td>14.2240</td>\n",
       "      <td>18.000</td>\n",
       "    </tr>\n",
       "  </tbody>\n",
       "</table>\n",
       "</div>"
      ],
      "text/plain": [
       "        count       mean       std     min      25%     50%      75%     max\n",
       " x     1691.0  10.000000  0.000000  10.000  10.0000  10.000  10.0000  10.000\n",
       "y      1691.0  10.000000  0.000000  10.000  10.0000  10.000  10.0000  10.000\n",
       "r4     1691.0   4.004731  0.449498   3.000   3.7500   4.000   4.5000   4.500\n",
       "w1     1691.0   0.873300  0.587552   0.250   0.5000   0.750   1.2500   3.000\n",
       "r3     1691.0   3.131431  0.667328   1.250   2.7500   3.250   3.7500   4.250\n",
       "r2     1691.0   2.881431  0.667328   1.000   2.5000   3.000   3.5000   4.000\n",
       "w2     1691.0   0.877144  0.591127   0.250   0.5000   0.750   1.2500   3.250\n",
       "r1     1691.0   2.004287  0.705602   0.750   1.5000   2.000   2.5000   3.750\n",
       "r0     1691.0   1.127144  0.591127   0.500   0.7500   1.000   1.5000   3.500\n",
       "f1     1691.0  11.061307  3.077110  -1.000   9.4795  10.550  12.4910  18.000\n",
       "f2     1691.0   6.012156  7.983961  -1.000  -1.0000  -1.000  14.6250  18.000\n",
       "bw1    1691.0   0.839151  0.977485  -1.000   0.3790   0.733   1.2320  12.422\n",
       "bw2    1691.0   0.060377  1.637853 -18.166  -1.0000  -1.000   1.5115   4.068\n",
       "bw1-1  1691.0  10.267292  3.417305  -1.000   8.8665  10.289  12.1250  17.959\n",
       "bw1-2  1691.0  10.938544  3.561032  -1.000   9.1760  10.656  12.7040  17.828\n",
       "bw2-1  1691.0   7.694451  7.811788  -1.000  -1.0000  11.489  14.9300  17.967\n",
       "bw2-2  1691.0   4.916684  7.880993  -1.000  -1.0000  -1.000  14.2240  18.000"
      ]
     },
     "execution_count": 75,
     "metadata": {},
     "output_type": "execute_result"
    }
   ],
   "source": [
    "df.describe().T"
   ]
  },
  {
   "cell_type": "code",
   "execution_count": 76,
   "metadata": {},
   "outputs": [
    {
     "data": {
      "text/html": [
       "<div>\n",
       "<style scoped>\n",
       "    .dataframe tbody tr th:only-of-type {\n",
       "        vertical-align: middle;\n",
       "    }\n",
       "\n",
       "    .dataframe tbody tr th {\n",
       "        vertical-align: top;\n",
       "    }\n",
       "\n",
       "    .dataframe thead th {\n",
       "        text-align: right;\n",
       "    }\n",
       "</style>\n",
       "<table border=\"1\" class=\"dataframe\">\n",
       "  <thead>\n",
       "    <tr style=\"text-align: right;\">\n",
       "      <th></th>\n",
       "      <th>x</th>\n",
       "      <th>y</th>\n",
       "      <th>r4</th>\n",
       "      <th>w1</th>\n",
       "      <th>r3</th>\n",
       "      <th>r2</th>\n",
       "      <th>w2</th>\n",
       "      <th>r1</th>\n",
       "      <th>r0</th>\n",
       "      <th>f1</th>\n",
       "      <th>f2</th>\n",
       "      <th>bw1</th>\n",
       "      <th>bw2</th>\n",
       "      <th>bw1-1</th>\n",
       "      <th>bw1-2</th>\n",
       "      <th>bw2-1</th>\n",
       "      <th>bw2-2</th>\n",
       "    </tr>\n",
       "  </thead>\n",
       "  <tbody>\n",
       "    <tr>\n",
       "      <th>605</th>\n",
       "      <td>10.0</td>\n",
       "      <td>10.0</td>\n",
       "      <td>4.00</td>\n",
       "      <td>0.25</td>\n",
       "      <td>3.75</td>\n",
       "      <td>3.50</td>\n",
       "      <td>2.00</td>\n",
       "      <td>1.50</td>\n",
       "      <td>0.75</td>\n",
       "      <td>9.021</td>\n",
       "      <td>-1.00</td>\n",
       "      <td>0.375</td>\n",
       "      <td>-1.000</td>\n",
       "      <td>8.790</td>\n",
       "      <td>9.164</td>\n",
       "      <td>17.700</td>\n",
       "      <td>-1.000</td>\n",
       "    </tr>\n",
       "    <tr>\n",
       "      <th>40</th>\n",
       "      <td>10.0</td>\n",
       "      <td>10.0</td>\n",
       "      <td>3.00</td>\n",
       "      <td>0.50</td>\n",
       "      <td>2.50</td>\n",
       "      <td>2.25</td>\n",
       "      <td>0.50</td>\n",
       "      <td>1.75</td>\n",
       "      <td>1.00</td>\n",
       "      <td>13.692</td>\n",
       "      <td>-1.00</td>\n",
       "      <td>0.534</td>\n",
       "      <td>-1.000</td>\n",
       "      <td>13.372</td>\n",
       "      <td>13.906</td>\n",
       "      <td>-1.000</td>\n",
       "      <td>-1.000</td>\n",
       "    </tr>\n",
       "    <tr>\n",
       "      <th>107</th>\n",
       "      <td>10.0</td>\n",
       "      <td>10.0</td>\n",
       "      <td>3.25</td>\n",
       "      <td>0.25</td>\n",
       "      <td>3.00</td>\n",
       "      <td>2.75</td>\n",
       "      <td>1.00</td>\n",
       "      <td>1.75</td>\n",
       "      <td>1.25</td>\n",
       "      <td>11.467</td>\n",
       "      <td>-1.00</td>\n",
       "      <td>0.330</td>\n",
       "      <td>-1.000</td>\n",
       "      <td>11.261</td>\n",
       "      <td>11.592</td>\n",
       "      <td>-1.000</td>\n",
       "      <td>-1.000</td>\n",
       "    </tr>\n",
       "    <tr>\n",
       "      <th>1005</th>\n",
       "      <td>10.0</td>\n",
       "      <td>10.0</td>\n",
       "      <td>4.25</td>\n",
       "      <td>0.50</td>\n",
       "      <td>3.75</td>\n",
       "      <td>3.50</td>\n",
       "      <td>1.00</td>\n",
       "      <td>2.50</td>\n",
       "      <td>2.00</td>\n",
       "      <td>8.889</td>\n",
       "      <td>14.08</td>\n",
       "      <td>0.552</td>\n",
       "      <td>1.744</td>\n",
       "      <td>8.532</td>\n",
       "      <td>9.084</td>\n",
       "      <td>13.044</td>\n",
       "      <td>14.788</td>\n",
       "    </tr>\n",
       "    <tr>\n",
       "      <th>1365</th>\n",
       "      <td>10.0</td>\n",
       "      <td>10.0</td>\n",
       "      <td>4.50</td>\n",
       "      <td>0.50</td>\n",
       "      <td>4.00</td>\n",
       "      <td>3.75</td>\n",
       "      <td>1.25</td>\n",
       "      <td>2.50</td>\n",
       "      <td>1.25</td>\n",
       "      <td>8.280</td>\n",
       "      <td>15.23</td>\n",
       "      <td>-1.000</td>\n",
       "      <td>3.447</td>\n",
       "      <td>-1.000</td>\n",
       "      <td>8.491</td>\n",
       "      <td>13.239</td>\n",
       "      <td>16.686</td>\n",
       "    </tr>\n",
       "    <tr>\n",
       "      <th>241</th>\n",
       "      <td>10.0</td>\n",
       "      <td>10.0</td>\n",
       "      <td>3.50</td>\n",
       "      <td>0.25</td>\n",
       "      <td>3.25</td>\n",
       "      <td>3.00</td>\n",
       "      <td>1.00</td>\n",
       "      <td>2.00</td>\n",
       "      <td>1.75</td>\n",
       "      <td>10.510</td>\n",
       "      <td>16.74</td>\n",
       "      <td>0.336</td>\n",
       "      <td>1.387</td>\n",
       "      <td>10.301</td>\n",
       "      <td>10.637</td>\n",
       "      <td>15.900</td>\n",
       "      <td>17.287</td>\n",
       "    </tr>\n",
       "    <tr>\n",
       "      <th>1522</th>\n",
       "      <td>10.0</td>\n",
       "      <td>10.0</td>\n",
       "      <td>4.50</td>\n",
       "      <td>1.00</td>\n",
       "      <td>3.50</td>\n",
       "      <td>3.25</td>\n",
       "      <td>0.50</td>\n",
       "      <td>2.75</td>\n",
       "      <td>2.25</td>\n",
       "      <td>9.464</td>\n",
       "      <td>12.85</td>\n",
       "      <td>0.992</td>\n",
       "      <td>1.328</td>\n",
       "      <td>8.799</td>\n",
       "      <td>9.791</td>\n",
       "      <td>12.112</td>\n",
       "      <td>13.440</td>\n",
       "    </tr>\n",
       "    <tr>\n",
       "      <th>342</th>\n",
       "      <td>10.0</td>\n",
       "      <td>10.0</td>\n",
       "      <td>3.50</td>\n",
       "      <td>1.25</td>\n",
       "      <td>2.25</td>\n",
       "      <td>2.00</td>\n",
       "      <td>0.25</td>\n",
       "      <td>1.75</td>\n",
       "      <td>1.00</td>\n",
       "      <td>14.939</td>\n",
       "      <td>-1.00</td>\n",
       "      <td>1.294</td>\n",
       "      <td>-1.000</td>\n",
       "      <td>14.110</td>\n",
       "      <td>15.404</td>\n",
       "      <td>-1.000</td>\n",
       "      <td>-1.000</td>\n",
       "    </tr>\n",
       "    <tr>\n",
       "      <th>1013</th>\n",
       "      <td>10.0</td>\n",
       "      <td>10.0</td>\n",
       "      <td>4.25</td>\n",
       "      <td>0.50</td>\n",
       "      <td>3.75</td>\n",
       "      <td>3.50</td>\n",
       "      <td>0.75</td>\n",
       "      <td>2.75</td>\n",
       "      <td>2.50</td>\n",
       "      <td>8.920</td>\n",
       "      <td>12.43</td>\n",
       "      <td>0.550</td>\n",
       "      <td>0.961</td>\n",
       "      <td>8.560</td>\n",
       "      <td>9.110</td>\n",
       "      <td>11.852</td>\n",
       "      <td>12.813</td>\n",
       "    </tr>\n",
       "    <tr>\n",
       "      <th>39</th>\n",
       "      <td>10.0</td>\n",
       "      <td>10.0</td>\n",
       "      <td>3.00</td>\n",
       "      <td>0.50</td>\n",
       "      <td>2.50</td>\n",
       "      <td>2.25</td>\n",
       "      <td>0.25</td>\n",
       "      <td>2.00</td>\n",
       "      <td>1.00</td>\n",
       "      <td>13.711</td>\n",
       "      <td>-1.00</td>\n",
       "      <td>0.520</td>\n",
       "      <td>-1.000</td>\n",
       "      <td>13.428</td>\n",
       "      <td>13.948</td>\n",
       "      <td>-1.000</td>\n",
       "      <td>-1.000</td>\n",
       "    </tr>\n",
       "  </tbody>\n",
       "</table>\n",
       "</div>"
      ],
      "text/plain": [
       "         x     y    r4    w1    r3    r2    w2    r1    r0      f1     f2  \\\n",
       "605   10.0  10.0  4.00  0.25  3.75  3.50  2.00  1.50  0.75   9.021  -1.00   \n",
       "40    10.0  10.0  3.00  0.50  2.50  2.25  0.50  1.75  1.00  13.692  -1.00   \n",
       "107   10.0  10.0  3.25  0.25  3.00  2.75  1.00  1.75  1.25  11.467  -1.00   \n",
       "1005  10.0  10.0  4.25  0.50  3.75  3.50  1.00  2.50  2.00   8.889  14.08   \n",
       "1365  10.0  10.0  4.50  0.50  4.00  3.75  1.25  2.50  1.25   8.280  15.23   \n",
       "241   10.0  10.0  3.50  0.25  3.25  3.00  1.00  2.00  1.75  10.510  16.74   \n",
       "1522  10.0  10.0  4.50  1.00  3.50  3.25  0.50  2.75  2.25   9.464  12.85   \n",
       "342   10.0  10.0  3.50  1.25  2.25  2.00  0.25  1.75  1.00  14.939  -1.00   \n",
       "1013  10.0  10.0  4.25  0.50  3.75  3.50  0.75  2.75  2.50   8.920  12.43   \n",
       "39    10.0  10.0  3.00  0.50  2.50  2.25  0.25  2.00  1.00  13.711  -1.00   \n",
       "\n",
       "        bw1    bw2   bw1-1   bw1-2   bw2-1   bw2-2  \n",
       "605   0.375 -1.000   8.790   9.164  17.700  -1.000  \n",
       "40    0.534 -1.000  13.372  13.906  -1.000  -1.000  \n",
       "107   0.330 -1.000  11.261  11.592  -1.000  -1.000  \n",
       "1005  0.552  1.744   8.532   9.084  13.044  14.788  \n",
       "1365 -1.000  3.447  -1.000   8.491  13.239  16.686  \n",
       "241   0.336  1.387  10.301  10.637  15.900  17.287  \n",
       "1522  0.992  1.328   8.799   9.791  12.112  13.440  \n",
       "342   1.294 -1.000  14.110  15.404  -1.000  -1.000  \n",
       "1013  0.550  0.961   8.560   9.110  11.852  12.813  \n",
       "39    0.520 -1.000  13.428  13.948  -1.000  -1.000  "
      ]
     },
     "execution_count": 76,
     "metadata": {},
     "output_type": "execute_result"
    }
   ],
   "source": [
    "df.sample(10)"
   ]
  },
  {
   "cell_type": "markdown",
   "metadata": {},
   "source": [
    "<!DOCTYPE html>\n",
    "<html>\n",
    "<head>\n",
    "    <title>Centralized Heading</title>\n",
    "</head>\n",
    "<body>\n",
    "\n",
    "<div style=\"text-align: center;\">\n",
    "    <h3><font color='pink'><b>Check</b></font></h3>\n",
    "</div>\n",
    "\n",
    "</body>\n",
    "</html>"
   ]
  },
  {
   "cell_type": "code",
   "execution_count": 77,
   "metadata": {},
   "outputs": [
    {
     "data": {
      "text/plain": [
       "False"
      ]
     },
     "execution_count": 77,
     "metadata": {},
     "output_type": "execute_result"
    }
   ],
   "source": [
    "# check any observation unit contrasts with surface radius logic \n",
    "fancy_index = (df['r0'] < df['r1']) & (df['r1'] < df['r2']) & (df['r2'] < df['r3']) & (df['r3'] < df['r4'])\n",
    "bool(df.shape[0] - len(df[fancy_index]))"
   ]
  },
  {
   "cell_type": "markdown",
   "metadata": {},
   "source": [
    "<!DOCTYPE html>\n",
    "<html>\n",
    "<head>\n",
    "    <title>Centralized Heading</title>\n",
    "</head>\n",
    "<body>\n",
    "\n",
    "<div style=\"text-align: center;\">\n",
    "    <h3><font color='pink'><b>Visualise</b></font></h3>\n",
    "</div>\n",
    "\n",
    "</body>\n",
    "</html>"
   ]
  },
  {
   "cell_type": "code",
   "execution_count": 78,
   "metadata": {},
   "outputs": [
    {
     "data": {
      "image/png": "[encoded data removed]",
      "text/plain": [
       "<Figure size 432x288 with 1 Axes>"
      ]
     },
     "metadata": {
      "needs_background": "light"
     },
     "output_type": "display_data"
    },
    {
     "data": {
      "image/png": "[encoded data removed]",
      "text/plain": [
       "<Figure size 432x288 with 1 Axes>"
      ]
     },
     "metadata": {
      "needs_background": "light"
     },
     "output_type": "display_data"
    },
    {
     "data": {
      "image/png": "[encoded data removed]",
      "text/plain": [
       "<Figure size 432x288 with 1 Axes>"
      ]
     },
     "metadata": {
      "needs_background": "light"
     },
     "output_type": "display_data"
    },
    {
     "data": {
      "image/png": "[encoded data removed]",
      "text/plain": [
       "<Figure size 432x288 with 1 Axes>"
      ]
     },
     "metadata": {
      "needs_background": "light"
     },
     "output_type": "display_data"
    },
    {
     "data": {
      "image/png": "[encoded data removed]",
      "text/plain": [
       "<Figure size 432x288 with 1 Axes>"
      ]
     },
     "metadata": {
      "needs_background": "light"
     },
     "output_type": "display_data"
    },
    {
     "data": {
      "image/png": "[encoded data removed]",
      "text/plain": [
       "<Figure size 432x288 with 1 Axes>"
      ]
     },
     "metadata": {
      "needs_background": "light"
     },
     "output_type": "display_data"
    },
    {
     "data": {
      "image/png": "[encoded data removed]",
      "text/plain": [
       "<Figure size 432x288 with 1 Axes>"
      ]
     },
     "metadata": {
      "needs_background": "light"
     },
     "output_type": "display_data"
    },
    {
     "data": {
      "image/png": "[encoded data removed]",
      "text/plain": [
       "<Figure size 432x288 with 1 Axes>"
      ]
     },
     "metadata": {
      "needs_background": "light"
     },
     "output_type": "display_data"
    },
    {
     "data": {
      "image/png": "[encoded data removed]",
      "text/plain": [
       "<Figure size 432x288 with 1 Axes>"
      ]
     },
     "metadata": {
      "needs_background": "light"
     },
     "output_type": "display_data"
    },
    {
     "data": {
      "image/png": "[encoded data removed]",
      "text/plain": [
       "<Figure size 432x288 with 1 Axes>"
      ]
     },
     "metadata": {
      "needs_background": "light"
     },
     "output_type": "display_data"
    },
    {
     "data": {
      "image/png": "[encoded data removed]",
      "text/plain": [
       "<Figure size 432x288 with 1 Axes>"
      ]
     },
     "metadata": {
      "needs_background": "light"
     },
     "output_type": "display_data"
    },
    {
     "data": {
      "image/png": "[encoded data removed]",
      "text/plain": [
       "<Figure size 432x288 with 1 Axes>"
      ]
     },
     "metadata": {
      "needs_background": "light"
     },
     "output_type": "display_data"
    },
    {
     "data": {
      "image/png": "[encoded data removed]",
      "text/plain": [
       "<Figure size 432x288 with 1 Axes>"
      ]
     },
     "metadata": {
      "needs_background": "light"
     },
     "output_type": "display_data"
    },
    {
     "data": {
      "image/png": "[encoded data removed]",
      "text/plain": [
       "<Figure size 432x288 with 1 Axes>"
      ]
     },
     "metadata": {
      "needs_background": "light"
     },
     "output_type": "display_data"
    },
    {
     "data": {
      "image/png": "[encoded data removed]",
      "text/plain": [
       "<Figure size 432x288 with 1 Axes>"
      ]
     },
     "metadata": {
      "needs_background": "light"
     },
     "output_type": "display_data"
    },
    {
     "data": {
      "image/png": "[encoded data removed]",
      "text/plain": [
       "<Figure size 432x288 with 1 Axes>"
      ]
     },
     "metadata": {
      "needs_background": "light"
     },
     "output_type": "display_data"
    },
    {
     "data": {
      "image/png": "[encoded data removed]",
      "text/plain": [
       "<Figure size 432x288 with 1 Axes>"
      ]
     },
     "metadata": {
      "needs_background": "light"
     },
     "output_type": "display_data"
    }
   ],
   "source": [
    "for col in df.columns:\n",
    "    plt.title = col\n",
    "    sns.boxplot(df[col])\n",
    "    plt.show();"
   ]
  },
  {
   "cell_type": "markdown",
   "metadata": {},
   "source": [
    "<!DOCTYPE html>\n",
    "<html>\n",
    "<head>\n",
    "    <title>Centralized Heading</title>\n",
    "</head>\n",
    "<body>\n",
    "\n",
    "<div style=\"text-align: center;\">\n",
    "    <h3><font color='pink'><b>Drop</b></font></h3>\n",
    "</div>\n",
    "\n",
    "</body>\n",
    "</html>"
   ]
  },
  {
   "cell_type": "code",
   "execution_count": 79,
   "metadata": {},
   "outputs": [],
   "source": [
    "drop_cols = [' x', 'y', 'w1', 'w2', 'bw1', 'bw2', 'bw1-1', 'bw1-2', 'bw2-1', 'bw2-2']\n",
    "df.drop(drop_cols, axis=1, inplace=True)"
   ]
  },
  {
   "cell_type": "markdown",
   "metadata": {},
   "source": [
    "<!DOCTYPE html>\n",
    "<html>\n",
    "<head>\n",
    "    <title>Centralized Heading</title>\n",
    "</head>\n",
    "<body>\n",
    "\n",
    "<div style=\"text-align: center;\">\n",
    "    <h3><font color='pink'><b>Export</b></font></h3>\n",
    "</div>\n",
    "\n",
    "</body>\n",
    "</html>"
   ]
  },
  {
   "cell_type": "code",
   "execution_count": 80,
   "metadata": {},
   "outputs": [],
   "source": [
    "# export dataframe\n",
    "df.to_csv(C.EDITED_DF_PATH, index_label=False)"
   ]
  }
 ],
 "metadata": {
  "kernelspec": {
   "display_name": "Python 3",
   "language": "python",
   "name": "python3"
  },
  "language_info": {
   "codemirror_mode": {
    "name": "ipython",
    "version": 3
   },
   "file_extension": ".py",
   "mimetype": "text/x-python",
   "name": "python",
   "nbconvert_exporter": "python",
   "pygments_lexer": "ipython3",
   "version": "3.9.7"
  }
 },
 "nbformat": 4,
 "nbformat_minor": 2
}
